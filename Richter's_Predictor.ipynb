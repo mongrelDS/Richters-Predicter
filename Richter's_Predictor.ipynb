{
  "nbformat": 4,
  "nbformat_minor": 0,
  "metadata": {
    "colab": {
      "provenance": [],
      "collapsed_sections": [
        "eL6llGnvrObc",
        "vCYj-wl6FN-q",
        "Lh06SXNxRV1x",
        "6TOVij4pT2aT",
        "nk-NoGdsarDH"
      ],
      "mount_file_id": "14eZWdu7O10a1HwYws3IMKQOo9u2bWG3S",
      "authorship_tag": "ABX9TyMwpHPjaQWhKtlUadC0vbKg",
      "include_colab_link": true
    },
    "kernelspec": {
      "name": "python3",
      "display_name": "Python 3"
    },
    "language_info": {
      "name": "python"
    },
    "gpuClass": "standard"
  },
  "cells": [
    {
      "cell_type": "markdown",
      "metadata": {
        "id": "view-in-github",
        "colab_type": "text"
      },
      "source": [
        "<a href=\"https://colab.research.google.com/github/mrbundles-GIT/nepal/blob/main/Richter's_Predictor.ipynb\" target=\"_parent\"><img src=\"https://colab.research.google.com/assets/colab-badge.svg\" alt=\"Open In Colab\"/></a>"
      ]
    },
    {
      "cell_type": "markdown",
      "source": [
        "#Driven Data Competition\n",
        "\n",
        "This is an entry to the Richter's Predictor competition hosted by DrivenData.  ( [link here](https://www.drivendata.org/competitions/57/nepal-earthquake/)) \n",
        "\n",
        "Ill run through some models to find the one that might fit.\n"
      ],
      "metadata": {
        "id": "DocYbShJG0Dq"
      }
    },
    {
      "cell_type": "code",
      "execution_count": 1,
      "metadata": {
        "id": "f048wDrgpP9H",
        "colab": {
          "base_uri": "https://localhost:8080/"
        },
        "outputId": "d2b6a768-609f-4a63-fa92-acd4517b20a2"
      },
      "outputs": [
        {
          "output_type": "stream",
          "name": "stdout",
          "text": [
            "Looking in indexes: https://pypi.org/simple, https://us-python.pkg.dev/colab-wheels/public/simple/\n",
            "Collecting category_encoders\n",
            "  Downloading category_encoders-2.5.1.post0-py2.py3-none-any.whl (72 kB)\n",
            "\u001b[K     |████████████████████████████████| 72 kB 119 kB/s \n",
            "\u001b[?25hRequirement already satisfied: pandas>=1.0.5 in /usr/local/lib/python3.7/dist-packages (from category_encoders) (1.3.5)\n",
            "Requirement already satisfied: statsmodels>=0.9.0 in /usr/local/lib/python3.7/dist-packages (from category_encoders) (0.12.2)\n",
            "Requirement already satisfied: numpy>=1.14.0 in /usr/local/lib/python3.7/dist-packages (from category_encoders) (1.21.6)\n",
            "Requirement already satisfied: scipy>=1.0.0 in /usr/local/lib/python3.7/dist-packages (from category_encoders) (1.7.3)\n",
            "Requirement already satisfied: scikit-learn>=0.20.0 in /usr/local/lib/python3.7/dist-packages (from category_encoders) (1.0.2)\n",
            "Requirement already satisfied: patsy>=0.5.1 in /usr/local/lib/python3.7/dist-packages (from category_encoders) (0.5.3)\n",
            "Requirement already satisfied: python-dateutil>=2.7.3 in /usr/local/lib/python3.7/dist-packages (from pandas>=1.0.5->category_encoders) (2.8.2)\n",
            "Requirement already satisfied: pytz>=2017.3 in /usr/local/lib/python3.7/dist-packages (from pandas>=1.0.5->category_encoders) (2022.6)\n",
            "Requirement already satisfied: six in /usr/local/lib/python3.7/dist-packages (from patsy>=0.5.1->category_encoders) (1.15.0)\n",
            "Requirement already satisfied: joblib>=0.11 in /usr/local/lib/python3.7/dist-packages (from scikit-learn>=0.20.0->category_encoders) (1.2.0)\n",
            "Requirement already satisfied: threadpoolctl>=2.0.0 in /usr/local/lib/python3.7/dist-packages (from scikit-learn>=0.20.0->category_encoders) (3.1.0)\n",
            "Installing collected packages: category-encoders\n",
            "Successfully installed category-encoders-2.5.1.post0\n"
          ]
        }
      ],
      "source": [
        "#@title Import Libraries { vertical-output: true, display-mode: \"form\" }\n",
        "\n",
        "import sqlite3\n",
        "import warnings\n",
        "\n",
        "import matplotlib.pyplot as plt\n",
        "import numpy as np\n",
        "import pandas as pd\n",
        "import seaborn as sns\n",
        "\n",
        "!pip install category_encoders\n",
        "from category_encoders import OneHotEncoder\n",
        "\n",
        "from sklearn.metrics import accuracy_score\n",
        "from sklearn.model_selection import train_test_split\n",
        "from sklearn.pipeline import Pipeline, make_pipeline\n",
        "from sklearn.utils.validation import check_is_fitted\n"
      ]
    },
    {
      "cell_type": "code",
      "source": [
        "#@title Data Import\n",
        "\n",
        "#Submission Format\t\n",
        "filepath = \"/content/drive/MyDrive/Public Data Projects/Nepal/Richters_Predictor/submission_format.csv\"\n",
        "submission_format = pd.read_csv(filepath, index_col='building_id')\n",
        "\n",
        "# Test Values\t\n",
        "filepath = \"/content/drive/MyDrive/Public Data Projects/Nepal/Richters_Predictor/test_values.csv\"\n",
        "test_values = pd.read_csv(filepath, index_col='building_id')\n",
        "\n",
        "#Train Labels\t\n",
        "filepath = \"/content/drive/MyDrive/Public Data Projects/Nepal/Richters_Predictor/train_labels.csv\"\n",
        "train_labels= pd.read_csv(filepath, index_col='building_id')\n",
        "\n",
        "#Train Values\n",
        "filepath = \"/content/drive/MyDrive/Public Data Projects/Nepal/Richters_Predictor/train_values.csv\"\n",
        "train_values= pd.read_csv(filepath, index_col='building_id')"
      ],
      "metadata": {
        "id": "klJomAL9a384"
      },
      "execution_count": 3,
      "outputs": []
    },
    {
      "cell_type": "code",
      "source": [
        "train_values.info()"
      ],
      "metadata": {
        "colab": {
          "base_uri": "https://localhost:8080/"
        },
        "id": "MqFiVIaocOFM",
        "outputId": "e470b105-2d63-4d27-ac20-36b6ffe5f5da"
      },
      "execution_count": 4,
      "outputs": [
        {
          "output_type": "stream",
          "name": "stdout",
          "text": [
            "<class 'pandas.core.frame.DataFrame'>\n",
            "Int64Index: 260601 entries, 802906 to 747594\n",
            "Data columns (total 38 columns):\n",
            " #   Column                                  Non-Null Count   Dtype \n",
            "---  ------                                  --------------   ----- \n",
            " 0   geo_level_1_id                          260601 non-null  int64 \n",
            " 1   geo_level_2_id                          260601 non-null  int64 \n",
            " 2   geo_level_3_id                          260601 non-null  int64 \n",
            " 3   count_floors_pre_eq                     260601 non-null  int64 \n",
            " 4   age                                     260601 non-null  int64 \n",
            " 5   area_percentage                         260601 non-null  int64 \n",
            " 6   height_percentage                       260601 non-null  int64 \n",
            " 7   land_surface_condition                  260601 non-null  object\n",
            " 8   foundation_type                         260601 non-null  object\n",
            " 9   roof_type                               260601 non-null  object\n",
            " 10  ground_floor_type                       260601 non-null  object\n",
            " 11  other_floor_type                        260601 non-null  object\n",
            " 12  position                                260601 non-null  object\n",
            " 13  plan_configuration                      260601 non-null  object\n",
            " 14  has_superstructure_adobe_mud            260601 non-null  int64 \n",
            " 15  has_superstructure_mud_mortar_stone     260601 non-null  int64 \n",
            " 16  has_superstructure_stone_flag           260601 non-null  int64 \n",
            " 17  has_superstructure_cement_mortar_stone  260601 non-null  int64 \n",
            " 18  has_superstructure_mud_mortar_brick     260601 non-null  int64 \n",
            " 19  has_superstructure_cement_mortar_brick  260601 non-null  int64 \n",
            " 20  has_superstructure_timber               260601 non-null  int64 \n",
            " 21  has_superstructure_bamboo               260601 non-null  int64 \n",
            " 22  has_superstructure_rc_non_engineered    260601 non-null  int64 \n",
            " 23  has_superstructure_rc_engineered        260601 non-null  int64 \n",
            " 24  has_superstructure_other                260601 non-null  int64 \n",
            " 25  legal_ownership_status                  260601 non-null  object\n",
            " 26  count_families                          260601 non-null  int64 \n",
            " 27  has_secondary_use                       260601 non-null  int64 \n",
            " 28  has_secondary_use_agriculture           260601 non-null  int64 \n",
            " 29  has_secondary_use_hotel                 260601 non-null  int64 \n",
            " 30  has_secondary_use_rental                260601 non-null  int64 \n",
            " 31  has_secondary_use_institution           260601 non-null  int64 \n",
            " 32  has_secondary_use_school                260601 non-null  int64 \n",
            " 33  has_secondary_use_industry              260601 non-null  int64 \n",
            " 34  has_secondary_use_health_post           260601 non-null  int64 \n",
            " 35  has_secondary_use_gov_office            260601 non-null  int64 \n",
            " 36  has_secondary_use_use_police            260601 non-null  int64 \n",
            " 37  has_secondary_use_other                 260601 non-null  int64 \n",
            "dtypes: int64(30), object(8)\n",
            "memory usage: 77.5+ MB\n"
          ]
        }
      ]
    },
    {
      "cell_type": "code",
      "source": [
        "train_labels"
      ],
      "metadata": {
        "colab": {
          "base_uri": "https://localhost:8080/",
          "height": 455
        },
        "id": "hg92lHfjoSCe",
        "outputId": "32f026d9-2a79-4710-fdb3-bea0d4c30eff"
      },
      "execution_count": 5,
      "outputs": [
        {
          "output_type": "execute_result",
          "data": {
            "text/plain": [
              "             damage_grade\n",
              "building_id              \n",
              "802906                  3\n",
              "28830                   2\n",
              "94947                   3\n",
              "590882                  2\n",
              "201944                  3\n",
              "...                   ...\n",
              "688636                  2\n",
              "669485                  3\n",
              "602512                  3\n",
              "151409                  2\n",
              "747594                  3\n",
              "\n",
              "[260601 rows x 1 columns]"
            ],
            "text/html": [
              "\n",
              "  <div id=\"df-aa54f4f1-23d3-4dc5-a83d-b23dd07a9f33\">\n",
              "    <div class=\"colab-df-container\">\n",
              "      <div>\n",
              "<style scoped>\n",
              "    .dataframe tbody tr th:only-of-type {\n",
              "        vertical-align: middle;\n",
              "    }\n",
              "\n",
              "    .dataframe tbody tr th {\n",
              "        vertical-align: top;\n",
              "    }\n",
              "\n",
              "    .dataframe thead th {\n",
              "        text-align: right;\n",
              "    }\n",
              "</style>\n",
              "<table border=\"1\" class=\"dataframe\">\n",
              "  <thead>\n",
              "    <tr style=\"text-align: right;\">\n",
              "      <th></th>\n",
              "      <th>damage_grade</th>\n",
              "    </tr>\n",
              "    <tr>\n",
              "      <th>building_id</th>\n",
              "      <th></th>\n",
              "    </tr>\n",
              "  </thead>\n",
              "  <tbody>\n",
              "    <tr>\n",
              "      <th>802906</th>\n",
              "      <td>3</td>\n",
              "    </tr>\n",
              "    <tr>\n",
              "      <th>28830</th>\n",
              "      <td>2</td>\n",
              "    </tr>\n",
              "    <tr>\n",
              "      <th>94947</th>\n",
              "      <td>3</td>\n",
              "    </tr>\n",
              "    <tr>\n",
              "      <th>590882</th>\n",
              "      <td>2</td>\n",
              "    </tr>\n",
              "    <tr>\n",
              "      <th>201944</th>\n",
              "      <td>3</td>\n",
              "    </tr>\n",
              "    <tr>\n",
              "      <th>...</th>\n",
              "      <td>...</td>\n",
              "    </tr>\n",
              "    <tr>\n",
              "      <th>688636</th>\n",
              "      <td>2</td>\n",
              "    </tr>\n",
              "    <tr>\n",
              "      <th>669485</th>\n",
              "      <td>3</td>\n",
              "    </tr>\n",
              "    <tr>\n",
              "      <th>602512</th>\n",
              "      <td>3</td>\n",
              "    </tr>\n",
              "    <tr>\n",
              "      <th>151409</th>\n",
              "      <td>2</td>\n",
              "    </tr>\n",
              "    <tr>\n",
              "      <th>747594</th>\n",
              "      <td>3</td>\n",
              "    </tr>\n",
              "  </tbody>\n",
              "</table>\n",
              "<p>260601 rows × 1 columns</p>\n",
              "</div>\n",
              "      <button class=\"colab-df-convert\" onclick=\"convertToInteractive('df-aa54f4f1-23d3-4dc5-a83d-b23dd07a9f33')\"\n",
              "              title=\"Convert this dataframe to an interactive table.\"\n",
              "              style=\"display:none;\">\n",
              "        \n",
              "  <svg xmlns=\"http://www.w3.org/2000/svg\" height=\"24px\"viewBox=\"0 0 24 24\"\n",
              "       width=\"24px\">\n",
              "    <path d=\"M0 0h24v24H0V0z\" fill=\"none\"/>\n",
              "    <path d=\"M18.56 5.44l.94 2.06.94-2.06 2.06-.94-2.06-.94-.94-2.06-.94 2.06-2.06.94zm-11 1L8.5 8.5l.94-2.06 2.06-.94-2.06-.94L8.5 2.5l-.94 2.06-2.06.94zm10 10l.94 2.06.94-2.06 2.06-.94-2.06-.94-.94-2.06-.94 2.06-2.06.94z\"/><path d=\"M17.41 7.96l-1.37-1.37c-.4-.4-.92-.59-1.43-.59-.52 0-1.04.2-1.43.59L10.3 9.45l-7.72 7.72c-.78.78-.78 2.05 0 2.83L4 21.41c.39.39.9.59 1.41.59.51 0 1.02-.2 1.41-.59l7.78-7.78 2.81-2.81c.8-.78.8-2.07 0-2.86zM5.41 20L4 18.59l7.72-7.72 1.47 1.35L5.41 20z\"/>\n",
              "  </svg>\n",
              "      </button>\n",
              "      \n",
              "  <style>\n",
              "    .colab-df-container {\n",
              "      display:flex;\n",
              "      flex-wrap:wrap;\n",
              "      gap: 12px;\n",
              "    }\n",
              "\n",
              "    .colab-df-convert {\n",
              "      background-color: #E8F0FE;\n",
              "      border: none;\n",
              "      border-radius: 50%;\n",
              "      cursor: pointer;\n",
              "      display: none;\n",
              "      fill: #1967D2;\n",
              "      height: 32px;\n",
              "      padding: 0 0 0 0;\n",
              "      width: 32px;\n",
              "    }\n",
              "\n",
              "    .colab-df-convert:hover {\n",
              "      background-color: #E2EBFA;\n",
              "      box-shadow: 0px 1px 2px rgba(60, 64, 67, 0.3), 0px 1px 3px 1px rgba(60, 64, 67, 0.15);\n",
              "      fill: #174EA6;\n",
              "    }\n",
              "\n",
              "    [theme=dark] .colab-df-convert {\n",
              "      background-color: #3B4455;\n",
              "      fill: #D2E3FC;\n",
              "    }\n",
              "\n",
              "    [theme=dark] .colab-df-convert:hover {\n",
              "      background-color: #434B5C;\n",
              "      box-shadow: 0px 1px 3px 1px rgba(0, 0, 0, 0.15);\n",
              "      filter: drop-shadow(0px 1px 2px rgba(0, 0, 0, 0.3));\n",
              "      fill: #FFFFFF;\n",
              "    }\n",
              "  </style>\n",
              "\n",
              "      <script>\n",
              "        const buttonEl =\n",
              "          document.querySelector('#df-aa54f4f1-23d3-4dc5-a83d-b23dd07a9f33 button.colab-df-convert');\n",
              "        buttonEl.style.display =\n",
              "          google.colab.kernel.accessAllowed ? 'block' : 'none';\n",
              "\n",
              "        async function convertToInteractive(key) {\n",
              "          const element = document.querySelector('#df-aa54f4f1-23d3-4dc5-a83d-b23dd07a9f33');\n",
              "          const dataTable =\n",
              "            await google.colab.kernel.invokeFunction('convertToInteractive',\n",
              "                                                     [key], {});\n",
              "          if (!dataTable) return;\n",
              "\n",
              "          const docLinkHtml = 'Like what you see? Visit the ' +\n",
              "            '<a target=\"_blank\" href=https://colab.research.google.com/notebooks/data_table.ipynb>data table notebook</a>'\n",
              "            + ' to learn more about interactive tables.';\n",
              "          element.innerHTML = '';\n",
              "          dataTable['output_type'] = 'display_data';\n",
              "          await google.colab.output.renderOutput(dataTable, element);\n",
              "          const docLink = document.createElement('div');\n",
              "          docLink.innerHTML = docLinkHtml;\n",
              "          element.appendChild(docLink);\n",
              "        }\n",
              "      </script>\n",
              "    </div>\n",
              "  </div>\n",
              "  "
            ]
          },
          "metadata": {},
          "execution_count": 5
        }
      ]
    },
    {
      "cell_type": "code",
      "source": [
        "test_values"
      ],
      "metadata": {
        "colab": {
          "base_uri": "https://localhost:8080/",
          "height": 519
        },
        "id": "mYdsKvHrobpB",
        "outputId": "b5c5343c-cfa0-4096-fa77-c23c86c485f2"
      },
      "execution_count": 6,
      "outputs": [
        {
          "output_type": "execute_result",
          "data": {
            "text/plain": [
              "             geo_level_1_id  geo_level_2_id  geo_level_3_id  \\\n",
              "building_id                                                   \n",
              "300051                   17             596           11307   \n",
              "99355                     6             141           11987   \n",
              "890251                   22              19           10044   \n",
              "745817                   26              39             633   \n",
              "421793                   17             289            7970   \n",
              "...                     ...             ...             ...   \n",
              "310028                    4             605            3623   \n",
              "663567                   10            1407           11907   \n",
              "1049160                  22            1136            7712   \n",
              "442785                    6            1041             912   \n",
              "501372                   26              36            6436   \n",
              "\n",
              "             count_floors_pre_eq  age  area_percentage  height_percentage  \\\n",
              "building_id                                                                 \n",
              "300051                         3   20                7                  6   \n",
              "99355                          2   25               13                  5   \n",
              "890251                         2    5                4                  5   \n",
              "745817                         1    0               19                  3   \n",
              "421793                         3   15                8                  7   \n",
              "...                          ...  ...              ...                ...   \n",
              "310028                         3   70               20                  6   \n",
              "663567                         3   25                6                  7   \n",
              "1049160                        1   50                3                  3   \n",
              "442785                         2    5                9                  5   \n",
              "501372                         2   10               11                  4   \n",
              "\n",
              "            land_surface_condition foundation_type roof_type  ...  \\\n",
              "building_id                                                   ...   \n",
              "300051                           t               r         n  ...   \n",
              "99355                            t               r         n  ...   \n",
              "890251                           t               r         n  ...   \n",
              "745817                           t               r         x  ...   \n",
              "421793                           t               r         q  ...   \n",
              "...                            ...             ...       ...  ...   \n",
              "310028                           t               r         q  ...   \n",
              "663567                           n               r         n  ...   \n",
              "1049160                          t               r         n  ...   \n",
              "442785                           t               r         n  ...   \n",
              "501372                           t               r         q  ...   \n",
              "\n",
              "            has_secondary_use_agriculture has_secondary_use_hotel  \\\n",
              "building_id                                                         \n",
              "300051                                  0                       0   \n",
              "99355                                   1                       0   \n",
              "890251                                  0                       0   \n",
              "745817                                  0                       0   \n",
              "421793                                  0                       0   \n",
              "...                                   ...                     ...   \n",
              "310028                                  1                       0   \n",
              "663567                                  0                       0   \n",
              "1049160                                 0                       0   \n",
              "442785                                  0                       0   \n",
              "501372                                  0                       0   \n",
              "\n",
              "            has_secondary_use_rental has_secondary_use_institution  \\\n",
              "building_id                                                          \n",
              "300051                             0                             0   \n",
              "99355                              0                             0   \n",
              "890251                             0                             0   \n",
              "745817                             1                             0   \n",
              "421793                             0                             0   \n",
              "...                              ...                           ...   \n",
              "310028                             0                             0   \n",
              "663567                             0                             0   \n",
              "1049160                            0                             0   \n",
              "442785                             0                             0   \n",
              "501372                             0                             0   \n",
              "\n",
              "             has_secondary_use_school  has_secondary_use_industry  \\\n",
              "building_id                                                         \n",
              "300051                              0                           0   \n",
              "99355                               0                           0   \n",
              "890251                              0                           0   \n",
              "745817                              0                           0   \n",
              "421793                              0                           0   \n",
              "...                               ...                         ...   \n",
              "310028                              0                           0   \n",
              "663567                              0                           0   \n",
              "1049160                             0                           0   \n",
              "442785                              0                           0   \n",
              "501372                              0                           0   \n",
              "\n",
              "             has_secondary_use_health_post  has_secondary_use_gov_office  \\\n",
              "building_id                                                                \n",
              "300051                                   0                             0   \n",
              "99355                                    0                             0   \n",
              "890251                                   0                             0   \n",
              "745817                                   0                             0   \n",
              "421793                                   0                             0   \n",
              "...                                    ...                           ...   \n",
              "310028                                   0                             0   \n",
              "663567                                   0                             0   \n",
              "1049160                                  0                             0   \n",
              "442785                                   0                             0   \n",
              "501372                                   0                             0   \n",
              "\n",
              "             has_secondary_use_use_police  has_secondary_use_other  \n",
              "building_id                                                         \n",
              "300051                                  0                        0  \n",
              "99355                                   0                        0  \n",
              "890251                                  0                        0  \n",
              "745817                                  0                        0  \n",
              "421793                                  0                        0  \n",
              "...                                   ...                      ...  \n",
              "310028                                  0                        0  \n",
              "663567                                  0                        0  \n",
              "1049160                                 0                        0  \n",
              "442785                                  0                        0  \n",
              "501372                                  0                        0  \n",
              "\n",
              "[86868 rows x 38 columns]"
            ],
            "text/html": [
              "\n",
              "  <div id=\"df-c2678d99-37c9-44f8-92fb-1b4d6e43d1ec\">\n",
              "    <div class=\"colab-df-container\">\n",
              "      <div>\n",
              "<style scoped>\n",
              "    .dataframe tbody tr th:only-of-type {\n",
              "        vertical-align: middle;\n",
              "    }\n",
              "\n",
              "    .dataframe tbody tr th {\n",
              "        vertical-align: top;\n",
              "    }\n",
              "\n",
              "    .dataframe thead th {\n",
              "        text-align: right;\n",
              "    }\n",
              "</style>\n",
              "<table border=\"1\" class=\"dataframe\">\n",
              "  <thead>\n",
              "    <tr style=\"text-align: right;\">\n",
              "      <th></th>\n",
              "      <th>geo_level_1_id</th>\n",
              "      <th>geo_level_2_id</th>\n",
              "      <th>geo_level_3_id</th>\n",
              "      <th>count_floors_pre_eq</th>\n",
              "      <th>age</th>\n",
              "      <th>area_percentage</th>\n",
              "      <th>height_percentage</th>\n",
              "      <th>land_surface_condition</th>\n",
              "      <th>foundation_type</th>\n",
              "      <th>roof_type</th>\n",
              "      <th>...</th>\n",
              "      <th>has_secondary_use_agriculture</th>\n",
              "      <th>has_secondary_use_hotel</th>\n",
              "      <th>has_secondary_use_rental</th>\n",
              "      <th>has_secondary_use_institution</th>\n",
              "      <th>has_secondary_use_school</th>\n",
              "      <th>has_secondary_use_industry</th>\n",
              "      <th>has_secondary_use_health_post</th>\n",
              "      <th>has_secondary_use_gov_office</th>\n",
              "      <th>has_secondary_use_use_police</th>\n",
              "      <th>has_secondary_use_other</th>\n",
              "    </tr>\n",
              "    <tr>\n",
              "      <th>building_id</th>\n",
              "      <th></th>\n",
              "      <th></th>\n",
              "      <th></th>\n",
              "      <th></th>\n",
              "      <th></th>\n",
              "      <th></th>\n",
              "      <th></th>\n",
              "      <th></th>\n",
              "      <th></th>\n",
              "      <th></th>\n",
              "      <th></th>\n",
              "      <th></th>\n",
              "      <th></th>\n",
              "      <th></th>\n",
              "      <th></th>\n",
              "      <th></th>\n",
              "      <th></th>\n",
              "      <th></th>\n",
              "      <th></th>\n",
              "      <th></th>\n",
              "      <th></th>\n",
              "    </tr>\n",
              "  </thead>\n",
              "  <tbody>\n",
              "    <tr>\n",
              "      <th>300051</th>\n",
              "      <td>17</td>\n",
              "      <td>596</td>\n",
              "      <td>11307</td>\n",
              "      <td>3</td>\n",
              "      <td>20</td>\n",
              "      <td>7</td>\n",
              "      <td>6</td>\n",
              "      <td>t</td>\n",
              "      <td>r</td>\n",
              "      <td>n</td>\n",
              "      <td>...</td>\n",
              "      <td>0</td>\n",
              "      <td>0</td>\n",
              "      <td>0</td>\n",
              "      <td>0</td>\n",
              "      <td>0</td>\n",
              "      <td>0</td>\n",
              "      <td>0</td>\n",
              "      <td>0</td>\n",
              "      <td>0</td>\n",
              "      <td>0</td>\n",
              "    </tr>\n",
              "    <tr>\n",
              "      <th>99355</th>\n",
              "      <td>6</td>\n",
              "      <td>141</td>\n",
              "      <td>11987</td>\n",
              "      <td>2</td>\n",
              "      <td>25</td>\n",
              "      <td>13</td>\n",
              "      <td>5</td>\n",
              "      <td>t</td>\n",
              "      <td>r</td>\n",
              "      <td>n</td>\n",
              "      <td>...</td>\n",
              "      <td>1</td>\n",
              "      <td>0</td>\n",
              "      <td>0</td>\n",
              "      <td>0</td>\n",
              "      <td>0</td>\n",
              "      <td>0</td>\n",
              "      <td>0</td>\n",
              "      <td>0</td>\n",
              "      <td>0</td>\n",
              "      <td>0</td>\n",
              "    </tr>\n",
              "    <tr>\n",
              "      <th>890251</th>\n",
              "      <td>22</td>\n",
              "      <td>19</td>\n",
              "      <td>10044</td>\n",
              "      <td>2</td>\n",
              "      <td>5</td>\n",
              "      <td>4</td>\n",
              "      <td>5</td>\n",
              "      <td>t</td>\n",
              "      <td>r</td>\n",
              "      <td>n</td>\n",
              "      <td>...</td>\n",
              "      <td>0</td>\n",
              "      <td>0</td>\n",
              "      <td>0</td>\n",
              "      <td>0</td>\n",
              "      <td>0</td>\n",
              "      <td>0</td>\n",
              "      <td>0</td>\n",
              "      <td>0</td>\n",
              "      <td>0</td>\n",
              "      <td>0</td>\n",
              "    </tr>\n",
              "    <tr>\n",
              "      <th>745817</th>\n",
              "      <td>26</td>\n",
              "      <td>39</td>\n",
              "      <td>633</td>\n",
              "      <td>1</td>\n",
              "      <td>0</td>\n",
              "      <td>19</td>\n",
              "      <td>3</td>\n",
              "      <td>t</td>\n",
              "      <td>r</td>\n",
              "      <td>x</td>\n",
              "      <td>...</td>\n",
              "      <td>0</td>\n",
              "      <td>0</td>\n",
              "      <td>1</td>\n",
              "      <td>0</td>\n",
              "      <td>0</td>\n",
              "      <td>0</td>\n",
              "      <td>0</td>\n",
              "      <td>0</td>\n",
              "      <td>0</td>\n",
              "      <td>0</td>\n",
              "    </tr>\n",
              "    <tr>\n",
              "      <th>421793</th>\n",
              "      <td>17</td>\n",
              "      <td>289</td>\n",
              "      <td>7970</td>\n",
              "      <td>3</td>\n",
              "      <td>15</td>\n",
              "      <td>8</td>\n",
              "      <td>7</td>\n",
              "      <td>t</td>\n",
              "      <td>r</td>\n",
              "      <td>q</td>\n",
              "      <td>...</td>\n",
              "      <td>0</td>\n",
              "      <td>0</td>\n",
              "      <td>0</td>\n",
              "      <td>0</td>\n",
              "      <td>0</td>\n",
              "      <td>0</td>\n",
              "      <td>0</td>\n",
              "      <td>0</td>\n",
              "      <td>0</td>\n",
              "      <td>0</td>\n",
              "    </tr>\n",
              "    <tr>\n",
              "      <th>...</th>\n",
              "      <td>...</td>\n",
              "      <td>...</td>\n",
              "      <td>...</td>\n",
              "      <td>...</td>\n",
              "      <td>...</td>\n",
              "      <td>...</td>\n",
              "      <td>...</td>\n",
              "      <td>...</td>\n",
              "      <td>...</td>\n",
              "      <td>...</td>\n",
              "      <td>...</td>\n",
              "      <td>...</td>\n",
              "      <td>...</td>\n",
              "      <td>...</td>\n",
              "      <td>...</td>\n",
              "      <td>...</td>\n",
              "      <td>...</td>\n",
              "      <td>...</td>\n",
              "      <td>...</td>\n",
              "      <td>...</td>\n",
              "      <td>...</td>\n",
              "    </tr>\n",
              "    <tr>\n",
              "      <th>310028</th>\n",
              "      <td>4</td>\n",
              "      <td>605</td>\n",
              "      <td>3623</td>\n",
              "      <td>3</td>\n",
              "      <td>70</td>\n",
              "      <td>20</td>\n",
              "      <td>6</td>\n",
              "      <td>t</td>\n",
              "      <td>r</td>\n",
              "      <td>q</td>\n",
              "      <td>...</td>\n",
              "      <td>1</td>\n",
              "      <td>0</td>\n",
              "      <td>0</td>\n",
              "      <td>0</td>\n",
              "      <td>0</td>\n",
              "      <td>0</td>\n",
              "      <td>0</td>\n",
              "      <td>0</td>\n",
              "      <td>0</td>\n",
              "      <td>0</td>\n",
              "    </tr>\n",
              "    <tr>\n",
              "      <th>663567</th>\n",
              "      <td>10</td>\n",
              "      <td>1407</td>\n",
              "      <td>11907</td>\n",
              "      <td>3</td>\n",
              "      <td>25</td>\n",
              "      <td>6</td>\n",
              "      <td>7</td>\n",
              "      <td>n</td>\n",
              "      <td>r</td>\n",
              "      <td>n</td>\n",
              "      <td>...</td>\n",
              "      <td>0</td>\n",
              "      <td>0</td>\n",
              "      <td>0</td>\n",
              "      <td>0</td>\n",
              "      <td>0</td>\n",
              "      <td>0</td>\n",
              "      <td>0</td>\n",
              "      <td>0</td>\n",
              "      <td>0</td>\n",
              "      <td>0</td>\n",
              "    </tr>\n",
              "    <tr>\n",
              "      <th>1049160</th>\n",
              "      <td>22</td>\n",
              "      <td>1136</td>\n",
              "      <td>7712</td>\n",
              "      <td>1</td>\n",
              "      <td>50</td>\n",
              "      <td>3</td>\n",
              "      <td>3</td>\n",
              "      <td>t</td>\n",
              "      <td>r</td>\n",
              "      <td>n</td>\n",
              "      <td>...</td>\n",
              "      <td>0</td>\n",
              "      <td>0</td>\n",
              "      <td>0</td>\n",
              "      <td>0</td>\n",
              "      <td>0</td>\n",
              "      <td>0</td>\n",
              "      <td>0</td>\n",
              "      <td>0</td>\n",
              "      <td>0</td>\n",
              "      <td>0</td>\n",
              "    </tr>\n",
              "    <tr>\n",
              "      <th>442785</th>\n",
              "      <td>6</td>\n",
              "      <td>1041</td>\n",
              "      <td>912</td>\n",
              "      <td>2</td>\n",
              "      <td>5</td>\n",
              "      <td>9</td>\n",
              "      <td>5</td>\n",
              "      <td>t</td>\n",
              "      <td>r</td>\n",
              "      <td>n</td>\n",
              "      <td>...</td>\n",
              "      <td>0</td>\n",
              "      <td>0</td>\n",
              "      <td>0</td>\n",
              "      <td>0</td>\n",
              "      <td>0</td>\n",
              "      <td>0</td>\n",
              "      <td>0</td>\n",
              "      <td>0</td>\n",
              "      <td>0</td>\n",
              "      <td>0</td>\n",
              "    </tr>\n",
              "    <tr>\n",
              "      <th>501372</th>\n",
              "      <td>26</td>\n",
              "      <td>36</td>\n",
              "      <td>6436</td>\n",
              "      <td>2</td>\n",
              "      <td>10</td>\n",
              "      <td>11</td>\n",
              "      <td>4</td>\n",
              "      <td>t</td>\n",
              "      <td>r</td>\n",
              "      <td>q</td>\n",
              "      <td>...</td>\n",
              "      <td>0</td>\n",
              "      <td>0</td>\n",
              "      <td>0</td>\n",
              "      <td>0</td>\n",
              "      <td>0</td>\n",
              "      <td>0</td>\n",
              "      <td>0</td>\n",
              "      <td>0</td>\n",
              "      <td>0</td>\n",
              "      <td>0</td>\n",
              "    </tr>\n",
              "  </tbody>\n",
              "</table>\n",
              "<p>86868 rows × 38 columns</p>\n",
              "</div>\n",
              "      <button class=\"colab-df-convert\" onclick=\"convertToInteractive('df-c2678d99-37c9-44f8-92fb-1b4d6e43d1ec')\"\n",
              "              title=\"Convert this dataframe to an interactive table.\"\n",
              "              style=\"display:none;\">\n",
              "        \n",
              "  <svg xmlns=\"http://www.w3.org/2000/svg\" height=\"24px\"viewBox=\"0 0 24 24\"\n",
              "       width=\"24px\">\n",
              "    <path d=\"M0 0h24v24H0V0z\" fill=\"none\"/>\n",
              "    <path d=\"M18.56 5.44l.94 2.06.94-2.06 2.06-.94-2.06-.94-.94-2.06-.94 2.06-2.06.94zm-11 1L8.5 8.5l.94-2.06 2.06-.94-2.06-.94L8.5 2.5l-.94 2.06-2.06.94zm10 10l.94 2.06.94-2.06 2.06-.94-2.06-.94-.94-2.06-.94 2.06-2.06.94z\"/><path d=\"M17.41 7.96l-1.37-1.37c-.4-.4-.92-.59-1.43-.59-.52 0-1.04.2-1.43.59L10.3 9.45l-7.72 7.72c-.78.78-.78 2.05 0 2.83L4 21.41c.39.39.9.59 1.41.59.51 0 1.02-.2 1.41-.59l7.78-7.78 2.81-2.81c.8-.78.8-2.07 0-2.86zM5.41 20L4 18.59l7.72-7.72 1.47 1.35L5.41 20z\"/>\n",
              "  </svg>\n",
              "      </button>\n",
              "      \n",
              "  <style>\n",
              "    .colab-df-container {\n",
              "      display:flex;\n",
              "      flex-wrap:wrap;\n",
              "      gap: 12px;\n",
              "    }\n",
              "\n",
              "    .colab-df-convert {\n",
              "      background-color: #E8F0FE;\n",
              "      border: none;\n",
              "      border-radius: 50%;\n",
              "      cursor: pointer;\n",
              "      display: none;\n",
              "      fill: #1967D2;\n",
              "      height: 32px;\n",
              "      padding: 0 0 0 0;\n",
              "      width: 32px;\n",
              "    }\n",
              "\n",
              "    .colab-df-convert:hover {\n",
              "      background-color: #E2EBFA;\n",
              "      box-shadow: 0px 1px 2px rgba(60, 64, 67, 0.3), 0px 1px 3px 1px rgba(60, 64, 67, 0.15);\n",
              "      fill: #174EA6;\n",
              "    }\n",
              "\n",
              "    [theme=dark] .colab-df-convert {\n",
              "      background-color: #3B4455;\n",
              "      fill: #D2E3FC;\n",
              "    }\n",
              "\n",
              "    [theme=dark] .colab-df-convert:hover {\n",
              "      background-color: #434B5C;\n",
              "      box-shadow: 0px 1px 3px 1px rgba(0, 0, 0, 0.15);\n",
              "      filter: drop-shadow(0px 1px 2px rgba(0, 0, 0, 0.3));\n",
              "      fill: #FFFFFF;\n",
              "    }\n",
              "  </style>\n",
              "\n",
              "      <script>\n",
              "        const buttonEl =\n",
              "          document.querySelector('#df-c2678d99-37c9-44f8-92fb-1b4d6e43d1ec button.colab-df-convert');\n",
              "        buttonEl.style.display =\n",
              "          google.colab.kernel.accessAllowed ? 'block' : 'none';\n",
              "\n",
              "        async function convertToInteractive(key) {\n",
              "          const element = document.querySelector('#df-c2678d99-37c9-44f8-92fb-1b4d6e43d1ec');\n",
              "          const dataTable =\n",
              "            await google.colab.kernel.invokeFunction('convertToInteractive',\n",
              "                                                     [key], {});\n",
              "          if (!dataTable) return;\n",
              "\n",
              "          const docLinkHtml = 'Like what you see? Visit the ' +\n",
              "            '<a target=\"_blank\" href=https://colab.research.google.com/notebooks/data_table.ipynb>data table notebook</a>'\n",
              "            + ' to learn more about interactive tables.';\n",
              "          element.innerHTML = '';\n",
              "          dataTable['output_type'] = 'display_data';\n",
              "          await google.colab.output.renderOutput(dataTable, element);\n",
              "          const docLink = document.createElement('div');\n",
              "          docLink.innerHTML = docLinkHtml;\n",
              "          element.appendChild(docLink);\n",
              "        }\n",
              "      </script>\n",
              "    </div>\n",
              "  </div>\n",
              "  "
            ]
          },
          "metadata": {},
          "execution_count": 6
        }
      ]
    },
    {
      "cell_type": "markdown",
      "source": [
        "## EDA (Exploratory Data Analysis)\n",
        "\n",
        "I'll run through a few visualuizations to spot useful features in the data.\n"
      ],
      "metadata": {
        "id": "iTrzJgTxOZfw"
      }
    },
    {
      "cell_type": "code",
      "source": [
        "#@title damage_grade\n",
        "print (train_labels[\"damage_grade\"].value_counts())"
      ],
      "metadata": {
        "colab": {
          "base_uri": "https://localhost:8080/"
        },
        "id": "xcJLFXAZar8p",
        "outputId": "a47c467a-b2b0-43c3-d33b-fa5acfa3506c"
      },
      "execution_count": 7,
      "outputs": [
        {
          "output_type": "stream",
          "name": "stdout",
          "text": [
            "2    148259\n",
            "3     87218\n",
            "1     25124\n",
            "Name: damage_grade, dtype: int64\n"
          ]
        }
      ]
    },
    {
      "cell_type": "code",
      "source": [
        "(train_labels.damage_grade\n",
        "             .value_counts()\n",
        "             .sort_index()\n",
        "             .plot.bar(title=\"Number of Buildings with Each Damage Grade\"))"
      ],
      "metadata": {
        "colab": {
          "base_uri": "https://localhost:8080/",
          "height": 295
        },
        "id": "FbJY4uq2uJDV",
        "outputId": "4d58cb1e-6371-416d-8a56-55ebe93fab09"
      },
      "execution_count": 8,
      "outputs": [
        {
          "output_type": "execute_result",
          "data": {
            "text/plain": [
              "<matplotlib.axes._subplots.AxesSubplot at 0x7f5f07edf110>"
            ]
          },
          "metadata": {},
          "execution_count": 8
        },
        {
          "output_type": "display_data",
          "data": {
            "text/plain": [
              "<Figure size 432x288 with 1 Axes>"
            ],
            "image/png": "[encoded data removed]"
          },
          "metadata": {
            "needs_background": "light"
          }
        }
      ]
    },
    {
      "cell_type": "code",
      "source": [
        "selected_features = ['foundation_type', \n",
        "                     'area_percentage', \n",
        "                     'height_percentage',\n",
        "                     'count_floors_pre_eq',\n",
        "                     'land_surface_condition',\n",
        "                     'has_superstructure_cement_mortar_stone']\n",
        "\n",
        "train_values_subset = train_values[selected_features]"
      ],
      "metadata": {
        "id": "tu_4QFRHuV82"
      },
      "execution_count": 9,
      "outputs": []
    },
    {
      "cell_type": "code",
      "source": [
        "sns.pairplot(train_values_subset.join(train_labels), \n",
        "             hue='damage_grade')"
      ],
      "metadata": {
        "colab": {
          "base_uri": "https://localhost:8080/",
          "height": 742
        },
        "id": "iGiTcijJ2gb6",
        "outputId": "20011a15-2816-4f5d-d281-471445a73a7a"
      },
      "execution_count": 10,
      "outputs": [
        {
          "output_type": "execute_result",
          "data": {
            "text/plain": [
              "<seaborn.axisgrid.PairGrid at 0x7f5f07e3efd0>"
            ]
          },
          "metadata": {},
          "execution_count": 10
        },
        {
          "output_type": "display_data",
          "data": {
            "text/plain": [
              "<Figure size 802.875x720 with 20 Axes>"
            ],
            "image/png": "[encoded data removed]"
          },
          "metadata": {
            "needs_background": "light"
          }
        }
      ]
    },
    {
      "cell_type": "markdown",
      "source": [
        "Pre-process the Data\n"
      ],
      "metadata": {
        "id": "QdSSHMix2ybd"
      }
    },
    {
      "cell_type": "code",
      "source": [
        "train_values_subset = pd.get_dummies(train_values_subset)"
      ],
      "metadata": {
        "id": "NaNC-5LJ22J5"
      },
      "execution_count": 11,
      "outputs": []
    },
    {
      "cell_type": "markdown",
      "source": [
        "THE ERROR METRIC – MICRO F1"
      ],
      "metadata": {
        "id": "sIwXIt9k241w"
      }
    },
    {
      "cell_type": "markdown",
      "source": [
        "The metric for the competitions is F1 score, which balances the precision and recall of a classifier. Traditionally, the F1 score is used to evaluate performance on a binary classifier, but since we have three possible labels we will use a variant called the micro averaged F1 score.\n",
        "\n",
        "In Python, you can easily calculate this loss using sklearn.metrics.f1_score with the keyword argument average='micro'. Here are some references that discuss the micro-averaged F1 score further:\n",
        "\n",
        "Scikit-Learn Documentation\n",
        "Blog Post"
      ],
      "metadata": {
        "id": "Ddc0T1rJ29gl"
      }
    },
    {
      "cell_type": "markdown",
      "source": [
        "BUILD THE MODEL\n",
        "This probably isn't your first data science competition (and if it is––welcome!), so you know as well as we do that random forests are often a good first model to try. We'll give random forests a shot here, and leave the stacked classifiers and deep learning models up to you."
      ],
      "metadata": {
        "id": "1JUdA0aG3A2B"
      }
    },
    {
      "cell_type": "markdown",
      "source": [
        "Random Forest\n",
        "In Scikit Learn, it almost couldn't be easier to grow a random forest with a fiew lines of code. We'll also show you how to throw in some mean standardization of the features and assemble it all into a pipeline."
      ],
      "metadata": {
        "id": "dO0uXO5-3EXh"
      }
    },
    {
      "cell_type": "code",
      "source": [
        "# for preprocessing the data\n",
        "from sklearn.preprocessing import StandardScaler\n",
        "\n",
        "# the model\n",
        "from sklearn.ensemble import RandomForestClassifier\n",
        "\n",
        "# for combining the preprocess with model training\n",
        "from sklearn.pipeline import make_pipeline\n",
        "\n",
        "# for optimizing the hyperparameters of the pipeline\n",
        "from sklearn.model_selection import GridSearchCV"
      ],
      "metadata": {
        "id": "Ce44zAe33GWG"
      },
      "execution_count": 12,
      "outputs": []
    },
    {
      "cell_type": "markdown",
      "source": [
        "The make_pipeline function automatically names the steps in your pipeline as a lowercase version of whatever the object name is."
      ],
      "metadata": {
        "id": "8_yGny4k3KPM"
      }
    },
    {
      "cell_type": "code",
      "source": [
        "pipe = make_pipeline(StandardScaler(), \n",
        "                     RandomForestClassifier(random_state=2018))\n",
        "pipe"
      ],
      "metadata": {
        "colab": {
          "base_uri": "https://localhost:8080/"
        },
        "id": "6f6GzgGQ3MVI",
        "outputId": "365c2e63-b4c3-4a84-dcba-37a830ea8ab0"
      },
      "execution_count": 13,
      "outputs": [
        {
          "output_type": "execute_result",
          "data": {
            "text/plain": [
              "Pipeline(steps=[('standardscaler', StandardScaler()),\n",
              "                ('randomforestclassifier',\n",
              "                 RandomForestClassifier(random_state=2018))])"
            ]
          },
          "metadata": {},
          "execution_count": 13
        }
      ]
    },
    {
      "cell_type": "markdown",
      "source": [
        "From here we can easily test a few different models using GridSearchCV."
      ],
      "metadata": {
        "id": "_cHMzwC93QkB"
      }
    },
    {
      "cell_type": "code",
      "source": [
        "param_grid = {'randomforestclassifier__n_estimators': [50, 100],\n",
        "              'randomforestclassifier__min_samples_leaf': [1, 5]}\n",
        "gs = GridSearchCV(pipe, param_grid, cv=5)"
      ],
      "metadata": {
        "id": "EXEqDVzG3PrF"
      },
      "execution_count": 14,
      "outputs": []
    },
    {
      "cell_type": "code",
      "source": [
        "gs.fit(train_values_subset, train_labels.values.ravel())"
      ],
      "metadata": {
        "colab": {
          "base_uri": "https://localhost:8080/"
        },
        "id": "PtaNrW8j3Ts5",
        "outputId": "8adb3249-2fcc-4927-b248-8022eccf148d"
      },
      "execution_count": 15,
      "outputs": [
        {
          "output_type": "execute_result",
          "data": {
            "text/plain": [
              "GridSearchCV(cv=5,\n",
              "             estimator=Pipeline(steps=[('standardscaler', StandardScaler()),\n",
              "                                       ('randomforestclassifier',\n",
              "                                        RandomForestClassifier(random_state=2018))]),\n",
              "             param_grid={'randomforestclassifier__min_samples_leaf': [1, 5],\n",
              "                         'randomforestclassifier__n_estimators': [50, 100]})"
            ]
          },
          "metadata": {},
          "execution_count": 15
        }
      ]
    },
    {
      "cell_type": "markdown",
      "source": [
        "Take a look at the best params."
      ],
      "metadata": {
        "id": "EIjLQGtP3WMx"
      }
    },
    {
      "cell_type": "code",
      "source": [
        "gs.best_params_"
      ],
      "metadata": {
        "colab": {
          "base_uri": "https://localhost:8080/"
        },
        "id": "Et23Z-rR3YMR",
        "outputId": "3ea78fef-cb66-4a0a-cd21-23d56dbd22d1"
      },
      "execution_count": 16,
      "outputs": [
        {
          "output_type": "execute_result",
          "data": {
            "text/plain": [
              "{'randomforestclassifier__min_samples_leaf': 5,\n",
              " 'randomforestclassifier__n_estimators': 100}"
            ]
          },
          "metadata": {},
          "execution_count": 16
        }
      ]
    },
    {
      "cell_type": "markdown",
      "source": [
        "And the in-sample F1 micro score.\n",
        "\n",
        "Note that we use the class predictions (.predict()), not the class probabilities (.predict_proba())."
      ],
      "metadata": {
        "id": "Pu0iHg5C3dLO"
      }
    },
    {
      "cell_type": "code",
      "source": [
        "from sklearn.metrics import f1_score\n",
        "\n",
        "in_sample_preds = gs.predict(train_values_subset)\n",
        "f1_score(train_labels, in_sample_preds, average='micro')"
      ],
      "metadata": {
        "colab": {
          "base_uri": "https://localhost:8080/"
        },
        "id": "UAjJQ8mx3fbH",
        "outputId": "56cf40b8-6b3d-46ae-c206-f263055d3d37"
      },
      "execution_count": 17,
      "outputs": [
        {
          "output_type": "execute_result",
          "data": {
            "text/plain": [
              "0.5894183061461775"
            ]
          },
          "metadata": {},
          "execution_count": 17
        }
      ]
    },
    {
      "cell_type": "markdown",
      "source": [
        "Remember, a perfect micro F1 score would be 1, so this is not a bad start given that we have 3 classes. Let's make some predictions on the test set!"
      ],
      "metadata": {
        "id": "RxLhaI1Q3hH-"
      }
    },
    {
      "cell_type": "markdown",
      "source": [
        "TIME TO PREDICT AND SUBMIT\n",
        "For the F1 Micro metric, we'll be using the class predictions, not the class probabilities. Let's load up the data, process it, and see what we get on the leaderboard."
      ],
      "metadata": {
        "id": "E9WQQKAZ3kAt"
      }
    },
    {
      "cell_type": "code",
      "source": [
        "# test_values = pd.read_csv(DATA_DIR / 'test_values.csv', index_col='building_id')\n"
      ],
      "metadata": {
        "id": "2X1dbdtI3mMS"
      },
      "execution_count": 18,
      "outputs": []
    },
    {
      "cell_type": "markdown",
      "source": [
        "Select the subset of features we used to train the model and create dummy variables."
      ],
      "metadata": {
        "id": "sP-mRoc13o-R"
      }
    },
    {
      "cell_type": "code",
      "source": [
        "test_values_subset = test_values[selected_features]\n",
        "test_values_subset = pd.get_dummies(test_values_subset)"
      ],
      "metadata": {
        "id": "SN_dyMee3rdV"
      },
      "execution_count": 19,
      "outputs": []
    },
    {
      "cell_type": "markdown",
      "source": [
        "Make Predictions\n",
        "Note that we use the class predictions, not the class probabilities."
      ],
      "metadata": {
        "id": "QzF3bOoL3tQg"
      }
    },
    {
      "cell_type": "code",
      "source": [
        "predictions = gs.predict(test_values_subset)"
      ],
      "metadata": {
        "id": "_1aDEdEJ3wr9"
      },
      "execution_count": 20,
      "outputs": []
    },
    {
      "cell_type": "markdown",
      "source": [
        "Save Submission\n",
        "We can use the column name and index from the submission format to ensure our predictions are in the form."
      ],
      "metadata": {
        "id": "GhG1wxpR3yd8"
      }
    },
    {
      "cell_type": "code",
      "source": [
        "# submission_format = pd.read_csv(DATA_DIR / 'submission_format.csv', index_col='building_id')"
      ],
      "metadata": {
        "id": "zTizOF9-3806"
      },
      "execution_count": 21,
      "outputs": []
    },
    {
      "cell_type": "code",
      "source": [
        "my_submission = pd.DataFrame(data=predictions,\n",
        "                             columns=submission_format.columns,\n",
        "                             index=submission_format.index)"
      ],
      "metadata": {
        "id": "wRuOig9B3-dS"
      },
      "execution_count": 22,
      "outputs": []
    },
    {
      "cell_type": "code",
      "source": [
        "my_submission.head()"
      ],
      "metadata": {
        "colab": {
          "base_uri": "https://localhost:8080/",
          "height": 238
        },
        "id": "7EWPnm-43_8a",
        "outputId": "b1d2bbe5-ef68-4722-9242-38d46d636a76"
      },
      "execution_count": 23,
      "outputs": [
        {
          "output_type": "execute_result",
          "data": {
            "text/plain": [
              "             damage_grade\n",
              "building_id              \n",
              "300051                  3\n",
              "99355                   2\n",
              "890251                  2\n",
              "745817                  2\n",
              "421793                  2"
            ],
            "text/html": [
              "\n",
              "  <div id=\"df-88f07c4b-63f4-435d-83c9-6ec0a4dacf61\">\n",
              "    <div class=\"colab-df-container\">\n",
              "      <div>\n",
              "<style scoped>\n",
              "    .dataframe tbody tr th:only-of-type {\n",
              "        vertical-align: middle;\n",
              "    }\n",
              "\n",
              "    .dataframe tbody tr th {\n",
              "        vertical-align: top;\n",
              "    }\n",
              "\n",
              "    .dataframe thead th {\n",
              "        text-align: right;\n",
              "    }\n",
              "</style>\n",
              "<table border=\"1\" class=\"dataframe\">\n",
              "  <thead>\n",
              "    <tr style=\"text-align: right;\">\n",
              "      <th></th>\n",
              "      <th>damage_grade</th>\n",
              "    </tr>\n",
              "    <tr>\n",
              "      <th>building_id</th>\n",
              "      <th></th>\n",
              "    </tr>\n",
              "  </thead>\n",
              "  <tbody>\n",
              "    <tr>\n",
              "      <th>300051</th>\n",
              "      <td>3</td>\n",
              "    </tr>\n",
              "    <tr>\n",
              "      <th>99355</th>\n",
              "      <td>2</td>\n",
              "    </tr>\n",
              "    <tr>\n",
              "      <th>890251</th>\n",
              "      <td>2</td>\n",
              "    </tr>\n",
              "    <tr>\n",
              "      <th>745817</th>\n",
              "      <td>2</td>\n",
              "    </tr>\n",
              "    <tr>\n",
              "      <th>421793</th>\n",
              "      <td>2</td>\n",
              "    </tr>\n",
              "  </tbody>\n",
              "</table>\n",
              "</div>\n",
              "      <button class=\"colab-df-convert\" onclick=\"convertToInteractive('df-88f07c4b-63f4-435d-83c9-6ec0a4dacf61')\"\n",
              "              title=\"Convert this dataframe to an interactive table.\"\n",
              "              style=\"display:none;\">\n",
              "        \n",
              "  <svg xmlns=\"http://www.w3.org/2000/svg\" height=\"24px\"viewBox=\"0 0 24 24\"\n",
              "       width=\"24px\">\n",
              "    <path d=\"M0 0h24v24H0V0z\" fill=\"none\"/>\n",
              "    <path d=\"M18.56 5.44l.94 2.06.94-2.06 2.06-.94-2.06-.94-.94-2.06-.94 2.06-2.06.94zm-11 1L8.5 8.5l.94-2.06 2.06-.94-2.06-.94L8.5 2.5l-.94 2.06-2.06.94zm10 10l.94 2.06.94-2.06 2.06-.94-2.06-.94-.94-2.06-.94 2.06-2.06.94z\"/><path d=\"M17.41 7.96l-1.37-1.37c-.4-.4-.92-.59-1.43-.59-.52 0-1.04.2-1.43.59L10.3 9.45l-7.72 7.72c-.78.78-.78 2.05 0 2.83L4 21.41c.39.39.9.59 1.41.59.51 0 1.02-.2 1.41-.59l7.78-7.78 2.81-2.81c.8-.78.8-2.07 0-2.86zM5.41 20L4 18.59l7.72-7.72 1.47 1.35L5.41 20z\"/>\n",
              "  </svg>\n",
              "      </button>\n",
              "      \n",
              "  <style>\n",
              "    .colab-df-container {\n",
              "      display:flex;\n",
              "      flex-wrap:wrap;\n",
              "      gap: 12px;\n",
              "    }\n",
              "\n",
              "    .colab-df-convert {\n",
              "      background-color: #E8F0FE;\n",
              "      border: none;\n",
              "      border-radius: 50%;\n",
              "      cursor: pointer;\n",
              "      display: none;\n",
              "      fill: #1967D2;\n",
              "      height: 32px;\n",
              "      padding: 0 0 0 0;\n",
              "      width: 32px;\n",
              "    }\n",
              "\n",
              "    .colab-df-convert:hover {\n",
              "      background-color: #E2EBFA;\n",
              "      box-shadow: 0px 1px 2px rgba(60, 64, 67, 0.3), 0px 1px 3px 1px rgba(60, 64, 67, 0.15);\n",
              "      fill: #174EA6;\n",
              "    }\n",
              "\n",
              "    [theme=dark] .colab-df-convert {\n",
              "      background-color: #3B4455;\n",
              "      fill: #D2E3FC;\n",
              "    }\n",
              "\n",
              "    [theme=dark] .colab-df-convert:hover {\n",
              "      background-color: #434B5C;\n",
              "      box-shadow: 0px 1px 3px 1px rgba(0, 0, 0, 0.15);\n",
              "      filter: drop-shadow(0px 1px 2px rgba(0, 0, 0, 0.3));\n",
              "      fill: #FFFFFF;\n",
              "    }\n",
              "  </style>\n",
              "\n",
              "      <script>\n",
              "        const buttonEl =\n",
              "          document.querySelector('#df-88f07c4b-63f4-435d-83c9-6ec0a4dacf61 button.colab-df-convert');\n",
              "        buttonEl.style.display =\n",
              "          google.colab.kernel.accessAllowed ? 'block' : 'none';\n",
              "\n",
              "        async function convertToInteractive(key) {\n",
              "          const element = document.querySelector('#df-88f07c4b-63f4-435d-83c9-6ec0a4dacf61');\n",
              "          const dataTable =\n",
              "            await google.colab.kernel.invokeFunction('convertToInteractive',\n",
              "                                                     [key], {});\n",
              "          if (!dataTable) return;\n",
              "\n",
              "          const docLinkHtml = 'Like what you see? Visit the ' +\n",
              "            '<a target=\"_blank\" href=https://colab.research.google.com/notebooks/data_table.ipynb>data table notebook</a>'\n",
              "            + ' to learn more about interactive tables.';\n",
              "          element.innerHTML = '';\n",
              "          dataTable['output_type'] = 'display_data';\n",
              "          await google.colab.output.renderOutput(dataTable, element);\n",
              "          const docLink = document.createElement('div');\n",
              "          docLink.innerHTML = docLinkHtml;\n",
              "          element.appendChild(docLink);\n",
              "        }\n",
              "      </script>\n",
              "    </div>\n",
              "  </div>\n",
              "  "
            ]
          },
          "metadata": {},
          "execution_count": 23
        }
      ]
    },
    {
      "cell_type": "code",
      "source": [
        "my_submission.to_csv('submission.csv')"
      ],
      "metadata": {
        "id": "88moptdC4Bwq"
      },
      "execution_count": 24,
      "outputs": []
    },
    {
      "cell_type": "markdown",
      "source": [
        "Check the head of the saved file"
      ],
      "metadata": {
        "id": "1OqkAE5Y4DW1"
      }
    },
    {
      "cell_type": "code",
      "source": [
        "!head submission.csv"
      ],
      "metadata": {
        "colab": {
          "base_uri": "https://localhost:8080/"
        },
        "id": "GcpeKMrm4Erj",
        "outputId": "eb81fd08-4631-4c95-8281-411620a94d53"
      },
      "execution_count": 25,
      "outputs": [
        {
          "output_type": "stream",
          "name": "stdout",
          "text": [
            "building_id,damage_grade\n",
            "300051,3\n",
            "99355,2\n",
            "890251,2\n",
            "745817,2\n",
            "421793,2\n",
            "871976,2\n",
            "691228,2\n",
            "896100,3\n",
            "343471,2\n"
          ]
        }
      ]
    },
    {
      "cell_type": "markdown",
      "source": [],
      "metadata": {
        "id": "jJOXQ9d-bLmC"
      }
    }
  ]
}